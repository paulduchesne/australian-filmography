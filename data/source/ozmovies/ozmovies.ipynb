{
 "cells": [
  {
   "cell_type": "code",
   "execution_count": 1,
   "metadata": {},
   "outputs": [
    {
     "name": "stdout",
     "output_type": "stream",
     "text": [
      "1061\n"
     ]
    }
   ],
   "source": [
    "from bs4 import BeautifulSoup\n",
    "from requests_html import HTML\n",
    "import pandas\n",
    "import pathlib\n",
    "import requests\n",
    "import time\n",
    "\n",
    "film_links = list()\n",
    "pages = [f'https://www.ozmovies.com.au/movies/browse?page={x}' for x in range(127)]\n",
    "for p in pages:\n",
    "    time.sleep(4)\n",
    "    r = requests.get(p)\n",
    "    r = r.text.split('<div class=\"movie-image pull-left\">')[1:]\n",
    "    for x in r:\n",
    "        html = HTML(html=x.split('<div class=\"inline-image\">')[0])\n",
    "        for y in html.links:\n",
    "            film_links.append(y)\n",
    "\n",
    "print(len(film_links))"
   ]
  },
  {
   "cell_type": "code",
   "execution_count": 2,
   "metadata": {},
   "outputs": [
    {
     "name": "stdout",
     "output_type": "stream",
     "text": [
      "16323\n"
     ]
    },
    {
     "data": {
      "text/html": [
       "<div>\n",
       "<style scoped>\n",
       "    .dataframe tbody tr th:only-of-type {\n",
       "        vertical-align: middle;\n",
       "    }\n",
       "\n",
       "    .dataframe tbody tr th {\n",
       "        vertical-align: top;\n",
       "    }\n",
       "\n",
       "    .dataframe thead th {\n",
       "        text-align: right;\n",
       "    }\n",
       "</style>\n",
       "<table border=\"1\" class=\"dataframe\">\n",
       "  <thead>\n",
       "    <tr style=\"text-align: right;\">\n",
       "      <th></th>\n",
       "      <th>title</th>\n",
       "      <th>year</th>\n",
       "      <th>activity</th>\n",
       "      <th>agent</th>\n",
       "    </tr>\n",
       "  </thead>\n",
       "  <tbody>\n",
       "    <tr>\n",
       "      <th>0</th>\n",
       "      <td>13 Gantry Row</td>\n",
       "      <td>1998</td>\n",
       "      <td>Key cast:</td>\n",
       "      <td>Rebecca Gibney</td>\n",
       "    </tr>\n",
       "    <tr>\n",
       "      <th>1</th>\n",
       "      <td>13 Gantry Row</td>\n",
       "      <td>1998</td>\n",
       "      <td>Key cast:</td>\n",
       "      <td>John Adam</td>\n",
       "    </tr>\n",
       "    <tr>\n",
       "      <th>2</th>\n",
       "      <td>13 Gantry Row</td>\n",
       "      <td>1998</td>\n",
       "      <td>Key cast:</td>\n",
       "      <td>Doris Younane</td>\n",
       "    </tr>\n",
       "    <tr>\n",
       "      <th>3</th>\n",
       "      <td>13 Gantry Row</td>\n",
       "      <td>1998</td>\n",
       "      <td>Key cast:</td>\n",
       "      <td>Nicholas Hammond</td>\n",
       "    </tr>\n",
       "    <tr>\n",
       "      <th>4</th>\n",
       "      <td>13 Gantry Row</td>\n",
       "      <td>1998</td>\n",
       "      <td>Key cast:</td>\n",
       "      <td>Mark Gerber</td>\n",
       "    </tr>\n",
       "  </tbody>\n",
       "</table>\n",
       "</div>"
      ],
      "text/plain": [
       "           title  year   activity             agent\n",
       "0  13 Gantry Row  1998  Key cast:    Rebecca Gibney\n",
       "1  13 Gantry Row  1998  Key cast:         John Adam\n",
       "2  13 Gantry Row  1998  Key cast:     Doris Younane\n",
       "3  13 Gantry Row  1998  Key cast:  Nicholas Hammond\n",
       "4  13 Gantry Row  1998  Key cast:       Mark Gerber"
      ]
     },
     "execution_count": 2,
     "metadata": {},
     "output_type": "execute_result"
    }
   ],
   "source": [
    "dataframe = pandas.DataFrame(columns=['title', 'year', 'activity', 'agent'])\n",
    "for x in film_links:\n",
    "    time.sleep(4)\n",
    "    r = requests.get(f'https://www.ozmovies.com.au/{x}')\n",
    "    title = r.text.split('<h2>')[1].split('</h2>')[0]\n",
    "    year = [k for k in r.text.split('<li class=\"active\">')][1:]\n",
    "    year = [k.split('</li>')[0] for k in year]\n",
    "    year = [BeautifulSoup(b, 'lxml').get_text().replace('\\n', '').strip() for b in year]\n",
    "    year = [k for k in year if k in [str(z) for z in range(1880, 2030)]][0]\n",
    "    r = r.text.split('<div class=\"movie-primary-details-people pull-left\">')[1].split('<div class=\"pull-right\">')[0]\n",
    "    for a in r.split(' <div class=\"row\">')[1:]:\n",
    "        activity = a.split('<div class=\"pull-left personType\">')[1].split('</div>')[0]\n",
    "        agent = a.split('<div class=\"pull-left personName\">')[1].split('<br />')\n",
    "        agent = [BeautifulSoup(b, 'lxml').get_text().replace('\\n', '').strip() for b in agent]\n",
    "        for h in agent:\n",
    "            dataframe.loc[len(dataframe)] = [(title), (year), (activity), (h)]\n",
    "\n",
    "print(len(dataframe))\n",
    "dataframe.head()"
   ]
  },
  {
   "cell_type": "code",
   "execution_count": 6,
   "metadata": {},
   "outputs": [
    {
     "name": "stdout",
     "output_type": "stream",
     "text": [
      "1051\n"
     ]
    }
   ],
   "source": [
    "# this is where you add a label (film + year) and then a work_uuid and an agent_uuid, you may also need to write activty as property\n",
    "# ie \"Key cast:\" becomes ontology:hasActor \n",
    "import pathlib\n",
    "\n",
    "print(len(dataframe.title.unique())) # make a label and see what happens\n",
    "\n",
    "dataframe.to_csv(pathlib.Path.cwd() / 'ozmovies-temp.csv')"
   ]
  }
 ],
 "metadata": {
  "interpreter": {
   "hash": "916dbcbb3f70747c44a77c7bcd40155683ae19c65e1c03b4aa3499c5328201f1"
  },
  "kernelspec": {
   "display_name": "Python 3.9.7 64-bit",
   "language": "python",
   "name": "python3"
  },
  "language_info": {
   "codemirror_mode": {
    "name": "ipython",
    "version": 3
   },
   "file_extension": ".py",
   "mimetype": "text/x-python",
   "name": "python",
   "nbconvert_exporter": "python",
   "pygments_lexer": "ipython3",
   "version": "3.9.7"
  },
  "orig_nbformat": 4
 },
 "nbformat": 4,
 "nbformat_minor": 2
}
