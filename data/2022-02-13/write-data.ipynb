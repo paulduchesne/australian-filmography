{
 "cells": [
  {
   "cell_type": "code",
   "execution_count": 15,
   "metadata": {},
   "outputs": [
    {
     "name": "stdout",
     "output_type": "stream",
     "text": [
      "all done.\n"
     ]
    }
   ],
   "source": [
    "# check data against data model.\n",
    "\n",
    "import pandas\n",
    "import pathlib\n",
    "\n",
    "def validate_properties(property_list):\n",
    "    model = pandas.read_json(pathlib.Path.cwd() / 'data-model.json')\n",
    "    for x in property_list:\n",
    "        if x not in model.name.unique():\n",
    "            raise Exception(f'\"{x}\" does not exist in data model.')\n",
    "\n",
    "data = pandas.read_json(pathlib.Path.cwd() / 'dataset.json')\n",
    "\n",
    "validate_properties(list(data.P.unique()))\n",
    "\n",
    "print('all done.')"
   ]
  }
 ],
 "metadata": {
  "interpreter": {
   "hash": "916dbcbb3f70747c44a77c7bcd40155683ae19c65e1c03b4aa3499c5328201f1"
  },
  "kernelspec": {
   "display_name": "Python 3.9.7 64-bit",
   "language": "python",
   "name": "python3"
  },
  "language_info": {
   "codemirror_mode": {
    "name": "ipython",
    "version": 3
   },
   "file_extension": ".py",
   "mimetype": "text/x-python",
   "name": "python",
   "nbconvert_exporter": "python",
   "pygments_lexer": "ipython3",
   "version": "3.9.7"
  },
  "orig_nbformat": 4
 },
 "nbformat": 4,
 "nbformat_minor": 2
}
