{
 "cells": [
  {
   "cell_type": "code",
   "execution_count": 1,
   "metadata": {},
   "outputs": [
    {
     "name": "stderr",
     "output_type": "stream",
     "text": [
      "100%|██████████| 62/62 [06:07<00:00,  5.92s/it]\n"
     ]
    }
   ],
   "source": [
    "from requests_html import HTMLSession, HTML\n",
    "import json\n",
    "import pandas\n",
    "import pathlib\n",
    "import pydash\n",
    "import requests\n",
    "import time\n",
    "import tqdm\n",
    "\n",
    "links = list()\n",
    "\n",
    "r = [x for x in range(1958, 2011) if x not in [1961, 1974]]\n",
    "c = list()\n",
    "for x in [1969, 1979, 1989, 1999]:\n",
    "    l = r.index(x)+1\n",
    "    c.append(r[:l])\n",
    "    r = r[l:]\n",
    "c.append(r)\n",
    "\n",
    "for a in c:\n",
    "    for b in a:\n",
    "        links.append(f'https://www.aacta.org/aacta-awards/winners-and-nominees/range/{min(a)}-{max(a)}/year/{b}/')\n",
    "\n",
    "for x in ['inaugural-aacta-awards']+['2nd', '3rd', '4th', '5th', '6th', '7th']+[str(x) for x in range(2018,2022)]:\n",
    "    if 'ina' not in x:\n",
    "        x = f'{x}-aacta-awards'\n",
    "    links.append(f'https://www.aacta.org/aacta-awards/winners-and-nominees/{x}')\n",
    "\n",
    "dataframe = pandas.DataFrame(columns=['ceremony', 'page'])\n",
    "\n",
    "for l in tqdm.tqdm(links):\n",
    "    time.sleep(4)\n",
    "    session = HTMLSession()\n",
    "    r = session.get(l)\n",
    "    for x in r.html.find('.filter-list__button', first=False):\n",
    "        dataframe.loc[len(dataframe)] = [(pathlib.Path(l).stem), (x.attrs['data-load-winners'])]\n",
    "\n",
    "dataframe['ceremony'] = dataframe['ceremony'].str.replace('1995', '1995-2')\n",
    "dataframe['ceremony'] = dataframe['ceremony'].str.replace('1996', '1996-2')\n",
    "dataframe['ceremony'] = dataframe['ceremony'].str.replace('2006', '2006-2')\n",
    "\n",
    "dataframe = dataframe.loc[dataframe.page.str.contains('film', na=False)]\n",
    "dataframe = dataframe.loc[~dataframe.page.str.contains('short', na=False)]\n",
    "dataframe = dataframe.loc[~dataframe.page.str.contains('non', na=False)]\n"
   ]
  },
  {
   "cell_type": "code",
   "execution_count": 2,
   "metadata": {},
   "outputs": [
    {
     "name": "stderr",
     "output_type": "stream",
     "text": [
      "100%|██████████| 46/46 [04:42<00:00,  6.15s/it]\n"
     ]
    }
   ],
   "source": [
    "stream = pandas.DataFrame()\n",
    "for x in tqdm.tqdm(dataframe.to_dict('records')):\n",
    "    \n",
    "    if x['ceremony'][:2] in ['19', '20']:\n",
    "        x['year'] = x['ceremony'][:4]\n",
    "    elif x['ceremony'] == '1995':\n",
    "        x['year'] = '1995-2'        \n",
    "    elif x['ceremony'] == 'inaugural-aacta-awards':\n",
    "        x['year'] = '2011'\n",
    "    else:\n",
    "        x['year'] = '201'+x['ceremony'][:1] \n",
    "\n",
    "    save_path = pathlib.Path.cwd() / 'data' / f\"{x['year']}-{x['page']}.csv\"\n",
    "    if not save_path.exists():\n",
    "        time.sleep(4)\n",
    "        url = f\"https://www.aacta.org/aacta-awards/awards-history/{x['ceremony']}/loadwinners/{x['page']}\"\n",
    "        r = requests.get(url)\n",
    "        if r.status_code == 200:\n",
    "            data = pydash.get(json.loads(r.content.decode('utf-8')), \"winners\")   \n",
    "            data = data.split('awards-list__title heading heading--lv3')[1:]\n",
    "            for d in data:\n",
    "                award_data = pandas.DataFrame(columns=['candidate'])        \n",
    "                html = HTML(html=d)\n",
    "                award_data['candidate'] = [x.text for x in (html.find('.nominees-list__title'))]\n",
    "                award_data['info'] = [x.text for x in (html.find('.nominees-list__info'))]\n",
    "                award_data['winner'] = ['winner' in str(x) for x in (html.find('.nominees-list__item'))]\n",
    "                award_data['award_name'] = d[2:].split('</h3>')[0]\n",
    "                award_data['year'] = x['year']\n",
    "                award_data['page'] = x['page']\n",
    "                stream = pandas.concat([stream, award_data])\n",
    "        else:\n",
    "            raise Exception(url, 'not found.')\n",
    "\n",
    "stream.to_parquet(pathlib.Path.cwd() / 'aacta.parquet')\n"
   ]
  }
 ],
 "metadata": {
  "kernelspec": {
   "display_name": "Python 3.9.7 64-bit",
   "language": "python",
   "name": "python3"
  },
  "language_info": {
   "codemirror_mode": {
    "name": "ipython",
    "version": 3
   },
   "file_extension": ".py",
   "mimetype": "text/x-python",
   "name": "python",
   "nbconvert_exporter": "python",
   "pygments_lexer": "ipython3",
   "version": "3.9.7"
  },
  "orig_nbformat": 4,
  "vscode": {
   "interpreter": {
    "hash": "916dbcbb3f70747c44a77c7bcd40155683ae19c65e1c03b4aa3499c5328201f1"
   }
  }
 },
 "nbformat": 4,
 "nbformat_minor": 2
}
