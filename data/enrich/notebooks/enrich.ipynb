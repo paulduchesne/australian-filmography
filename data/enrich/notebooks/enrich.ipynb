{
 "cells": [
  {
   "cell_type": "code",
   "execution_count": 1,
   "metadata": {},
   "outputs": [
    {
     "name": "stderr",
     "output_type": "stream",
     "text": [
      "/home/temp/.local/lib/python3.9/site-packages/bs4/__init__.py:435: MarkupResemblesLocatorWarning: The input looks more like a filename than markup. You may want to open this file and pass the filehandle into Beautiful Soup.\n",
      "  warnings.warn(\n"
     ]
    },
    {
     "name": "stdout",
     "output_type": "stream",
     "text": [
      "{'oflc': {'Classification date': '1 August 1975', 'Year of production': 'Not Specified', 'Classification': 'G', 'Consumer advice': 'Not Specified', 'Category': 'Films', 'Category detail': 'Review - Public Exhibition', 'Media type': '35MM', 'Version': 'Not Specified', 'Duration': '118 minutes', 'Director/Creator': 'UNKNOWN', 'Producer': 'J & H MCELROY', 'Production company': 'Not Specified', 'Country of origin': 'AUSTRALIA', 'Language': 'ENGLISH', 'Applicant': 'MGM/BEF FILM DIST', 'File number': 'T84/2576', 'Classification number': '0030686F2140', 'Alternative titles': 'Not Specified'}}\n",
      "{'oflc': {'Classification date': '14 December 1998', 'Year of production': 'Not Specified', 'Classification': 'R 18+', 'Consumer advice': 'Medium level sex scenes', 'Category': 'Films', 'Category detail': 'CD', 'Media type': '35MM', 'Version': 'Not Specified', 'Duration': '97 minutes', 'Director/Creator': 'J. CURRAN', 'Producer': 'M. COLEMAN', 'Production company': 'Not Specified', 'Country of origin': 'AUSTRALIA', 'Language': 'ENGLISH', 'Applicant': 'UNITED INTERNATIONAL PICTURES PTY LTD', 'File number': 'T98/3380', 'Classification number': '10115C639E1B', 'Alternative titles': 'Not Specified'}}\n",
      "{'oflc': {'Classification date': '15 August 2011', 'Year of production': '2011', 'Classification': 'M', 'Consumer advice': 'Coarse language and infrequent violence', 'Category': 'Films', 'Category detail': 'Film - Public Exhibition', 'Media type': '35 mm', 'Version': 'ORIGINAL', 'Duration': '102 minutes', 'Director/Creator': 'DANIEL NETTHEIM', 'Producer': 'VINCENT SHEEHAN', 'Production company': 'PORCHLIGHT FILMS', 'Country of origin': 'AUSTRALIA', 'Language': 'ENGLISH', 'Applicant': 'MADMAN ENTERTAINMENT', 'File number': 'T11/3775', 'Classification number': '249236', 'Alternative titles': 'Not Specified'}}\n",
      "{}\n"
     ]
    }
   ],
   "source": [
    "# enrich data from trusted web sources.\n",
    "\n",
    "import bs4\n",
    "import json\n",
    "import pathlib\n",
    "import pydash\n",
    "import requests\n",
    "import time\n",
    "\n",
    "class enrich_data:\n",
    "\n",
    "    def __init__(self, json_file):\n",
    "\n",
    "        self.json_file = json_file\n",
    "        self.dictionary = dict()\n",
    "\n",
    "    def oflc_data(self):\n",
    "\n",
    "        with open(self.json_file) as work:\n",
    "            work = json.load(work)\n",
    "        oflc_id = pydash.get(work, 'oflc')\n",
    "\n",
    "        if len(oflc_id):\n",
    "\n",
    "            time.sleep(4)\n",
    "            oflc_address = 'https://www.classification.gov.au/titles/'+oflc_id \n",
    "\n",
    "            oflc_data = requests.get(oflc_address).text\n",
    "            oflc_data = oflc_data.split('Industry details')[1].replace('\\n', '')\n",
    "            oflc_data = oflc_data.split('<div class=\"views-row\">')[1]\n",
    "            oflc_data = oflc_data.split('</div></div></div>')[0]\n",
    "            oflc_data = oflc_data.split('</div></div>')\n",
    "\n",
    "            oflc_dict = dict()\n",
    "            for o in oflc_data:\n",
    "                o = o.split('<div class=\"field-content\">')\n",
    "                o = [bs4.BeautifulSoup(x, \"lxml\").text for x in o]\n",
    "                oflc_dict[o[0]] = o[1]\n",
    "\n",
    "            self.dictionary['oflc'] = oflc_dict\n",
    "\n",
    "auth = [x for x in (pathlib.Path.cwd().parents[1] / 'authority').iterdir() if x.suffix == '.json']\n",
    "for x in auth:\n",
    "    work = enrich_data(x)\n",
    "    work.oflc_data()\n",
    "\n",
    "    print(work.dictionary)\n"
   ]
  }
 ],
 "metadata": {
  "kernelspec": {
   "display_name": "Python 3.9.7 64-bit",
   "language": "python",
   "name": "python3"
  },
  "language_info": {
   "codemirror_mode": {
    "name": "ipython",
    "version": 3
   },
   "file_extension": ".py",
   "mimetype": "text/x-python",
   "name": "python",
   "nbconvert_exporter": "python",
   "pygments_lexer": "ipython3",
   "version": "3.9.7"
  },
  "orig_nbformat": 4,
  "vscode": {
   "interpreter": {
    "hash": "916dbcbb3f70747c44a77c7bcd40155683ae19c65e1c03b4aa3499c5328201f1"
   }
  }
 },
 "nbformat": 4,
 "nbformat_minor": 2
}
