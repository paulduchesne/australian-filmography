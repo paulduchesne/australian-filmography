{
 "cells": [
  {
   "cell_type": "code",
   "execution_count": 22,
   "metadata": {},
   "outputs": [
    {
     "name": "stderr",
     "output_type": "stream",
     "text": [
      "/home/temp/.local/lib/python3.9/site-packages/bs4/__init__.py:435: MarkupResemblesLocatorWarning: The input looks more like a filename than markup. You may want to open this file and pass the filehandle into Beautiful Soup.\n",
      "  warnings.warn(\n"
     ]
    },
    {
     "name": "stdout",
     "output_type": "stream",
     "text": [
      "{'pike_cooper': [{'label': 'Picnic at Hanging Rock (1975)', 'pike-cooper identifier': 436, 'year': 1975, 'title': 'Picnic at Hanging Rock', 'director': 'Peter Weir', 'duration': 115.0, 'work_uuid': 'cb97ec8c-7fb6-4c79-be7a-cd365c42f3d2', 'agent_uuid': 'c5d53fce-8b3e-4f2d-b79e-2f35c51a725d'}], 'oflc': {'Classification date': '1 August 1975', 'Year of production': 'Not Specified', 'Classification': 'G', 'Consumer advice': 'Not Specified', 'Category': 'Films', 'Category detail': 'Review - Public Exhibition', 'Media type': '35MM', 'Version': 'Not Specified', 'Duration': '118 minutes', 'Director/Creator': 'UNKNOWN', 'Producer': 'J & H MCELROY', 'Production company': 'Not Specified', 'Country of origin': 'AUSTRALIA', 'Language': 'ENGLISH', 'Applicant': 'MGM/BEF FILM DIST', 'File number': 'T84/2576', 'Classification number': '0030686F2140', 'Alternative titles': 'Not Specified'}}\n",
      "{'oflc': {'Classification date': '14 December 1998', 'Year of production': 'Not Specified', 'Classification': 'R 18+', 'Consumer advice': 'Medium level sex scenes', 'Category': 'Films', 'Category detail': 'CD', 'Media type': '35MM', 'Version': 'Not Specified', 'Duration': '97 minutes', 'Director/Creator': 'J. CURRAN', 'Producer': 'M. COLEMAN', 'Production company': 'Not Specified', 'Country of origin': 'AUSTRALIA', 'Language': 'ENGLISH', 'Applicant': 'UNITED INTERNATIONAL PICTURES PTY LTD', 'File number': 'T98/3380', 'Classification number': '10115C639E1B', 'Alternative titles': 'Not Specified'}}\n",
      "{'oflc': {'Classification date': '15 August 2011', 'Year of production': '2011', 'Classification': 'M', 'Consumer advice': 'Coarse language and infrequent violence', 'Category': 'Films', 'Category detail': 'Film - Public Exhibition', 'Media type': '35 mm', 'Version': 'ORIGINAL', 'Duration': '102 minutes', 'Director/Creator': 'DANIEL NETTHEIM', 'Producer': 'VINCENT SHEEHAN', 'Production company': 'PORCHLIGHT FILMS', 'Country of origin': 'AUSTRALIA', 'Language': 'ENGLISH', 'Applicant': 'MADMAN ENTERTAINMENT', 'File number': 'T11/3775', 'Classification number': '249236', 'Alternative titles': 'Not Specified'}}\n",
      "{'pike_cooper': [{'label': 'For the Term of His Natural Life (1927)', 'pike-cooper identifier': 239, 'year': 1927, 'title': 'For the Term of His Natural Life', 'director': 'Norman Dawn', 'duration': nan, 'work_uuid': 'e4cc3d77-6f23-4b11-9986-5e07d6cc2871', 'agent_uuid': '8a4a2a45-8b36-407f-983a-da2a50e01403'}]}\n"
     ]
    }
   ],
   "source": [
    "# enrich data from trusted web sources.\n",
    "\n",
    "import bs4\n",
    "import json\n",
    "import pandas\n",
    "import pathlib\n",
    "import pydash\n",
    "import requests\n",
    "import time\n",
    "\n",
    "class enrich_data:\n",
    "\n",
    "    def __init__(self, json_file):\n",
    "\n",
    "        self.dictionary = dict()\n",
    "        with open(json_file) as work:\n",
    "            self.work = json.load(work)\n",
    "\n",
    "    def pike_cooper_data(self):\n",
    "\n",
    "        pike_cooper_id = pydash.get(self.work, 'pike-cooper')\n",
    "        if pike_cooper_id:\n",
    "            pike_cooper_csv = pathlib.Path.cwd().parents[1] / 'sources' / 'pike-cooper' / 'pike-cooper.csv'\n",
    "            pike_cooper_data = pandas.read_csv(pike_cooper_csv)\n",
    "            pike_cooper_dict = pike_cooper_data.to_dict('records')\n",
    "            pike_cooper_dict = [x for x in pike_cooper_dict if x['pike-cooper identifier'] == int(pike_cooper_id)]\n",
    "\n",
    "            # list of dicts needs to be inverted to dict of lists.\n",
    "\n",
    "            self.dictionary['pike_cooper'] = pike_cooper_dict\n",
    "\n",
    "    def oflc_data(self):\n",
    "\n",
    "        oflc_id = pydash.get(self.work, 'oflc')\n",
    "\n",
    "        if len(oflc_id):\n",
    "\n",
    "            time.sleep(4)\n",
    "            oflc_address = 'https://www.classification.gov.au/titles/'+oflc_id \n",
    "\n",
    "            oflc_data = requests.get(oflc_address).text\n",
    "            oflc_data = oflc_data.split('Industry details')[1].replace('\\n', '')\n",
    "            oflc_data = oflc_data.split('<div class=\"views-row\">')[1]\n",
    "            oflc_data = oflc_data.split('</div></div></div>')[0]\n",
    "            oflc_data = oflc_data.split('</div></div>')\n",
    "\n",
    "            oflc_dict = dict()\n",
    "            for o in oflc_data:\n",
    "                o = o.split('<div class=\"field-content\">')\n",
    "                o = [bs4.BeautifulSoup(x, \"lxml\").text for x in o]\n",
    "                oflc_dict[o[0]] = o[1]\n",
    "\n",
    "            self.dictionary['oflc'] = oflc_dict\n",
    "\n",
    "auth = [x for x in (pathlib.Path.cwd().parents[1] / 'authority').iterdir() if x.suffix == '.json']\n",
    "for x in auth:\n",
    "    work = enrich_data(x)\n",
    "    work.pike_cooper_data()\n",
    "    work.oflc_data()\n",
    "\n",
    "    print(work.dictionary)\n"
   ]
  },
  {
   "cell_type": "code",
   "execution_count": null,
   "metadata": {},
   "outputs": [],
   "source": []
  }
 ],
 "metadata": {
  "kernelspec": {
   "display_name": "Python 3.9.7 64-bit",
   "language": "python",
   "name": "python3"
  },
  "language_info": {
   "codemirror_mode": {
    "name": "ipython",
    "version": 3
   },
   "file_extension": ".py",
   "mimetype": "text/x-python",
   "name": "python",
   "nbconvert_exporter": "python",
   "pygments_lexer": "ipython3",
   "version": "3.9.7"
  },
  "orig_nbformat": 4,
  "vscode": {
   "interpreter": {
    "hash": "916dbcbb3f70747c44a77c7bcd40155683ae19c65e1c03b4aa3499c5328201f1"
   }
  }
 },
 "nbformat": 4,
 "nbformat_minor": 2
}
